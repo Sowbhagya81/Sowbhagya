{
  "cells": [
    {
      "cell_type": "code",
      "execution_count": 2,
      "metadata": {
        "id": "dUMAbvtD0iSV"
      },
      "outputs": [],
      "source": [
        "import numpy as np\n",
        "\n",
        "# Your provided dataset\n",
        "data_array = np.array([\n",
        "    [1001, 207, 307, 2, 8.5, 0, 4, 'West', 'PayPal', 503.0, 17.00],\n",
        "    [1002, 206, 305, 4, 10.99, 5, 6, 'Online', 'Cash', np.nan, 41.75],\n",
        "    [1003, 205, 301, 5, 10.99, 10, 6, 'Online', 'PayPal', np.nan, 49.46],\n",
        "    [1004, 206, 307, 2, 7.25, 10, 0, 'West', 'Credit Card', 501.0, 13.05],\n",
        "    [1005, 207, 306, 2, 49.99, 10, 6, 'West', 'PayPal', 502.0, 89.98],\n",
        "    [1006, 208, 308, 1, 12.75, 0, 0, 'East', 'Cash', 502.0, 12.75],\n",
        "    [1007, 206, 302, 3, 7.25, 0, 1, 'Online', 'PayPal', np.nan, 21.75],\n",
        "    [1008, 206, 308, 1, 10.99, 5, 8, 'West', 'Credit Card', 503.0, 10.44],\n",
        "    [1009, 204, 304, 5, 25.5, 0, 6, 'South', 'Credit Card', 501.0, 127.50],\n",
        "    [1010, 210, 302, 3, 8.5, 0, 4, 'North', 'Debit Card', 503.0, 25.50],\n",
        "    [1011, 202, 305, 3, 8.5, 0, 1, 'North', 'PayPal', 501.0, 25.50],\n",
        "    [1012, 205, 301, 1, 10.99, 0, 1, 'West', 'Debit Card', 503.0, 10.99],\n",
        "    [1013, 206, 307, 2, 25.5, 10, 1, 'North', 'Credit Card', 502.0, 45.90],\n",
        "    [1014, 202, 304, 1, 12.75, 5, 5, 'East', 'Cash', 501.0, 12.11],\n",
        "    [1015, 208, 303, 5, 49.99, 5, 4, 'Online', 'Credit Card', np.nan, 237.41],\n",
        "    [1016, 207, 301, 2, 10.99, 5, 5, 'West', 'Credit Card', 503.0, 20.88],\n",
        "    [1017, 203, 303, 2, 10.99, 10, 5, 'North', 'PayPal', 502.0, 19.78],\n",
        "    [1018, 202, 302, 5, 49.99, 5, 8, 'North', 'Credit Card', 503.0, 237.41],\n",
        "    [1019, 208, 304, 2, 7.25, 5, 7, 'South', 'Debit Card', 502.0, 13.78],\n",
        "    [1020, 206, 305, 3, 25.5, 10, 0, 'South', 'Debit Card', 503.0, 68.85]\n",
        "], dtype=object)\n",
        "\n"
      ]
    },
    {
      "cell_type": "code",
      "execution_count": 3,
      "metadata": {
        "colab": {
          "base_uri": "https://localhost:8080/"
        },
        "id": "ckPiKoIc1cdz",
        "outputId": "30d36f05-fa1b-4728-bb6c-d6296811ee7d"
      },
      "outputs": [
        {
          "data": {
            "text/plain": [
              "(20, 11)"
            ]
          },
          "execution_count": 3,
          "metadata": {},
          "output_type": "execute_result"
        }
      ],
      "source": [
        "data_array.shape"
      ]
    },
    {
      "cell_type": "code",
      "execution_count": 4,
      "metadata": {
        "colab": {
          "base_uri": "https://localhost:8080/"
        },
        "id": "xgVqJ-2x1cvO",
        "outputId": "94a927fc-bf43-4d13-b8e9-002f214a22ac"
      },
      "outputs": [
        {
          "data": {
            "text/plain": [
              "dtype('O')"
            ]
          },
          "execution_count": 4,
          "metadata": {},
          "output_type": "execute_result"
        }
      ],
      "source": [
        "data_array.dtype"
      ]
    },
    {
      "cell_type": "code",
      "execution_count": 5,
      "metadata": {
        "colab": {
          "base_uri": "https://localhost:8080/"
        },
        "id": "d33ks1Va1cws",
        "outputId": "7c74006f-102a-41ca-8069-9b6aa3bb4400"
      },
      "outputs": [
        {
          "data": {
            "text/plain": [
              "np.int64(54)"
            ]
          },
          "execution_count": 5,
          "metadata": {},
          "output_type": "execute_result"
        }
      ],
      "source": [
        "quantities = data_array[:, 3].astype(int); np.sum(quantities)"
      ]
    },
    {
      "cell_type": "code",
      "execution_count": 6,
      "metadata": {
        "colab": {
          "base_uri": "https://localhost:8080/"
        },
        "id": "Py51c4UI1vaK",
        "outputId": "7d73a2e1-50b6-4813-e482-e8eddffdf4ea"
      },
      "outputs": [
        {
          "data": {
            "text/plain": [
              "np.float64(55.0895)"
            ]
          },
          "execution_count": 6,
          "metadata": {},
          "output_type": "execute_result"
        }
      ],
      "source": [
        "total_sales = data_array[:, 10].astype(float); np.mean(total_sales)"
      ]
    },
    {
      "cell_type": "code",
      "execution_count": 7,
      "metadata": {
        "colab": {
          "base_uri": "https://localhost:8080/",
          "height": 36
        },
        "id": "zbveSxV51vbf",
        "outputId": "1e4e80de-b5d3-407a-de25-a110ceaf1bd6"
      },
      "outputs": [
        {
          "data": {
            "application/vnd.google.colaboratory.intrinsic+json": {
              "type": "string"
            },
            "text/plain": [
              "'West'"
            ]
          },
          "execution_count": 7,
          "metadata": {},
          "output_type": "execute_result"
        }
      ],
      "source": [
        "data_array[0, 7]"
      ]
    },
    {
      "cell_type": "code",
      "execution_count": 8,
      "metadata": {
        "colab": {
          "base_uri": "https://localhost:8080/"
        },
        "id": "5RbWsLOk1vf2",
        "outputId": "088fb353-3cb9-469e-e439-cbfc85959e23"
      },
      "outputs": [
        {
          "data": {
            "text/plain": [
              "20"
            ]
          },
          "execution_count": 8,
          "metadata": {},
          "output_type": "execute_result"
        }
      ],
      "source": [
        "data_array[:, 8].size"
      ]
    },
    {
      "cell_type": "code",
      "execution_count": 11,
      "metadata": {
        "colab": {
          "base_uri": "https://localhost:8080/"
        },
        "id": "dDZHBVEe1vhY",
        "outputId": "3dec915b-38aa-4a98-fc78-a4fc2c1d5371"
      },
      "outputs": [
        {
          "data": {
            "text/plain": [
              "array([1001, 207, 307, 2, 8.5, 0, 4, 'West', 'PayPal', 503.0, 17.0],\n",
              "      dtype=object)"
            ]
          },
          "execution_count": 11,
          "metadata": {},
          "output_type": "execute_result"
        }
      ],
      "source": [
        "data_array[0, :]\n"
      ]
    },
    {
      "cell_type": "code",
      "execution_count": 12,
      "metadata": {
        "colab": {
          "base_uri": "https://localhost:8080/"
        },
        "id": "bRlIfnoZ1vll",
        "outputId": "10cb09a2-47cb-40cc-ce3f-228c0e3fcdef"
      },
      "outputs": [
        {
          "data": {
            "text/plain": [
              "array([1001, 207, 307, 2, 8.5, 0, 4, 'West', 'PayPal', 503.0, 17.0],\n",
              "      dtype=object)"
            ]
          },
          "execution_count": 12,
          "metadata": {},
          "output_type": "execute_result"
        }
      ],
      "source": [
        "data_array[0]"
      ]
    },
    {
      "cell_type": "code",
      "execution_count": 13,
      "metadata": {
        "colab": {
          "base_uri": "https://localhost:8080/"
        },
        "id": "qqQMP4YP2cpD",
        "outputId": "da95d185-3a55-4604-b144-7828de7e117b"
      },
      "outputs": [
        {
          "data": {
            "text/plain": [
              "float"
            ]
          },
          "execution_count": 13,
          "metadata": {},
          "output_type": "execute_result"
        }
      ],
      "source": [
        "type(data_array[0, 9])"
      ]
    },
    {
      "cell_type": "code",
      "execution_count": 14,
      "metadata": {
        "colab": {
          "base_uri": "https://localhost:8080/"
        },
        "id": "qB1i0vWq2cqT",
        "outputId": "63284651-c540-44f0-e2de-954ccf0e2c73"
      },
      "outputs": [
        {
          "data": {
            "text/plain": [
              "np.True_"
            ]
          },
          "execution_count": 14,
          "metadata": {},
          "output_type": "execute_result"
        }
      ],
      "source": [
        "transaction_ids = data_array[:, 0].astype(int); np.all(transaction_ids == data_array[:, 0])"
      ]
    },
    {
      "cell_type": "code",
      "execution_count": 15,
      "metadata": {
        "id": "dP8O09lb2c46"
      },
      "outputs": [],
      "source": [
        "numerical_data = data_array[:, [0,1,2,3,4,5,6,10]].astype(float)"
      ]
    },
    {
      "cell_type": "code",
      "execution_count": 16,
      "metadata": {
        "colab": {
          "base_uri": "https://localhost:8080/"
        },
        "id": "V8KEuYsM2c6H",
        "outputId": "69482808-46fd-4179-f590-71dd2fd46df3"
      },
      "outputs": [
        {
          "data": {
            "text/plain": [
              "np.int64(5)"
            ]
          },
          "execution_count": 16,
          "metadata": {},
          "output_type": "execute_result"
        }
      ],
      "source": [
        "np.max(data_array[:, 3].astype(int))"
      ]
    },
    {
      "cell_type": "code",
      "execution_count": 17,
      "metadata": {
        "colab": {
          "base_uri": "https://localhost:8080/"
        },
        "id": "vI_JeTl31wbJ",
        "outputId": "32003f6c-3378-452a-f7c4-be9c2f541a6f"
      },
      "outputs": [
        {
          "data": {
            "text/plain": [
              "np.float64(7.25)"
            ]
          },
          "execution_count": 17,
          "metadata": {},
          "output_type": "execute_result"
        }
      ],
      "source": [
        "np.min(data_array[:, 4].astype(float))"
      ]
    },
    {
      "cell_type": "code",
      "execution_count": 18,
      "metadata": {
        "colab": {
          "base_uri": "https://localhost:8080/"
        },
        "id": "oLgI06sn3poM",
        "outputId": "840b9294-9ee4-4b9b-a978-9f1c584557f3"
      },
      "outputs": [
        {
          "data": {
            "text/plain": [
              "np.int64(95)"
            ]
          },
          "execution_count": 18,
          "metadata": {},
          "output_type": "execute_result"
        }
      ],
      "source": [
        "np.sum(data_array[:, 5].astype(int))"
      ]
    },
    {
      "cell_type": "code",
      "execution_count": 19,
      "metadata": {
        "colab": {
          "base_uri": "https://localhost:8080/"
        },
        "id": "JZe53Lk93p2M",
        "outputId": "842ec60e-72d0-40ab-890a-65ee76a08c4b"
      },
      "outputs": [
        {
          "data": {
            "text/plain": [
              "np.float64(23.625)"
            ]
          },
          "execution_count": 19,
          "metadata": {},
          "output_type": "execute_result"
        }
      ],
      "source": [
        "np.median(data_array[:, 10].astype(float))"
      ]
    },
    {
      "cell_type": "code",
      "execution_count": 20,
      "metadata": {
        "colab": {
          "base_uri": "https://localhost:8080/"
        },
        "id": "ipJ0rkpS3qDh",
        "outputId": "dfcdcecb-e97b-4e65-d2d0-d063fb5e0914"
      },
      "outputs": [
        {
          "data": {
            "text/plain": [
              "np.float64(14.49983124039725)"
            ]
          },
          "execution_count": 20,
          "metadata": {},
          "output_type": "execute_result"
        }
      ],
      "source": [
        "np.std(data_array[:, 4].astype(float))"
      ]
    },
    {
      "cell_type": "code",
      "execution_count": 21,
      "metadata": {
        "colab": {
          "base_uri": "https://localhost:8080/"
        },
        "id": "xaUhWhlu3qQ5",
        "outputId": "db4bcaa3-f6e5-45c5-a1a2-ba1605e769cc"
      },
      "outputs": [
        {
          "data": {
            "text/plain": [
              "8"
            ]
          },
          "execution_count": 21,
          "metadata": {},
          "output_type": "execute_result"
        }
      ],
      "source": [
        "len(np.unique(data_array[:, 1].astype(int)))"
      ]
    },
    {
      "cell_type": "code",
      "execution_count": 22,
      "metadata": {
        "colab": {
          "base_uri": "https://localhost:8080/"
        },
        "id": "Wl235JSj3qSG",
        "outputId": "4469b079-f636-4c51-fa01-6081812adceb"
      },
      "outputs": [
        {
          "data": {
            "text/plain": [
              "8"
            ]
          },
          "execution_count": 22,
          "metadata": {},
          "output_type": "execute_result"
        }
      ],
      "source": [
        "len(np.unique(data_array[:, 2].astype(int)))"
      ]
    },
    {
      "cell_type": "code",
      "execution_count": 23,
      "metadata": {
        "colab": {
          "base_uri": "https://localhost:8080/"
        },
        "id": "A5clTj4M6HIc",
        "outputId": "a321702c-b390-48fd-8c75-e97ec84ef1be"
      },
      "outputs": [
        {
          "data": {
            "text/plain": [
              "np.int64(18)"
            ]
          },
          "execution_count": 23,
          "metadata": {},
          "output_type": "execute_result"
        }
      ],
      "source": [
        "discounts = data_array[:, 5].astype(int); quantities = data_array[:, 3].astype(int); np.sum(quantities[discounts == 0])"
      ]
    },
    {
      "cell_type": "code",
      "execution_count": 24,
      "metadata": {
        "colab": {
          "base_uri": "https://localhost:8080/"
        },
        "id": "5_2XyUxu6HVK",
        "outputId": "b7a7e7b8-8b43-4f5c-b6db-a1255a4006ea"
      },
      "outputs": [
        {
          "data": {
            "text/plain": [
              "np.float64(138.706)"
            ]
          },
          "execution_count": 24,
          "metadata": {},
          "output_type": "execute_result"
        }
      ],
      "source": [
        "quantities = data_array[:, 3].astype(int); total_sales = data_array[:, 10].astype(float); np.mean(total_sales[quantities > 3])"
      ]
    },
    {
      "cell_type": "code",
      "execution_count": 25,
      "metadata": {
        "colab": {
          "base_uri": "https://localhost:8080/"
        },
        "id": "VZ1WmoKu6oXX",
        "outputId": "ae554902-384e-4535-df64-9f82cfc9fe90"
      },
      "outputs": [
        {
          "data": {
            "text/plain": [
              "np.float64(1163.98)"
            ]
          },
          "execution_count": 25,
          "metadata": {},
          "output_type": "execute_result"
        }
      ],
      "source": [
        "quantities = data_array[:, 3].astype(int); unit_prices = data_array[:, 4].astype(float); np.sum(quantities * unit_prices)"
      ]
    },
    {
      "cell_type": "code",
      "execution_count": 26,
      "metadata": {
        "colab": {
          "base_uri": "https://localhost:8080/"
        },
        "id": "9ebz2hfp6ok6",
        "outputId": "cc2d5b87-9067-4625-92d7-89f31d7b350c"
      },
      "outputs": [
        {
          "data": {
            "text/plain": [
              "np.float64(350.37)"
            ]
          },
          "execution_count": 26,
          "metadata": {},
          "output_type": "execute_result"
        }
      ],
      "source": [
        "store_locations = data_array[:, 7]; total_sales = data_array[:, 10].astype(float); np.sum(total_sales[store_locations == 'Online'])\n"
      ]
    },
    {
      "cell_type": "code",
      "execution_count": 27,
      "metadata": {
        "colab": {
          "base_uri": "https://localhost:8080/"
        },
        "id": "FQwy9gEU6oxV",
        "outputId": "6e025d77-fafa-4334-8819-d9a561e1c24c"
      },
      "outputs": [
        {
          "data": {
            "text/plain": [
              "np.int64(6)"
            ]
          },
          "execution_count": 27,
          "metadata": {},
          "output_type": "execute_result"
        }
      ],
      "source": [
        "payment_types = data_array[:, 8]; np.sum(payment_types == 'PayPal')"
      ]
    },
    {
      "cell_type": "code",
      "execution_count": 28,
      "metadata": {
        "colab": {
          "base_uri": "https://localhost:8080/"
        },
        "id": "pXsi_hQi68ol",
        "outputId": "b165123a-8745-46e5-b80c-f3f4657f4a86"
      },
      "outputs": [
        {
          "data": {
            "text/plain": [
              "np.float64(3.75)"
            ]
          },
          "execution_count": 28,
          "metadata": {},
          "output_type": "execute_result"
        }
      ],
      "source": [
        "salespersons = data_array[:, 9]; discounts = data_array[:, 5].astype(int); np.mean(discounts[salespersons == 501.0])"
      ]
    },
    {
      "cell_type": "code",
      "execution_count": 29,
      "metadata": {
        "colab": {
          "base_uri": "https://localhost:8080/"
        },
        "id": "BCUyirIt680f",
        "outputId": "9828e68e-723b-4c1c-d4bc-90e37a73f604"
      },
      "outputs": [
        {
          "data": {
            "text/plain": [
              "np.int64(20)"
            ]
          },
          "execution_count": 29,
          "metadata": {},
          "output_type": "execute_result"
        }
      ],
      "source": [
        "salespersons = data_array[:, 9]; np.sum(~(salespersons == np.nan))"
      ]
    },
    {
      "cell_type": "code",
      "execution_count": 30,
      "metadata": {
        "colab": {
          "base_uri": "https://localhost:8080/"
        },
        "id": "ax5G_P9w69CB",
        "outputId": "bde83c0e-7696-484a-d501-b42cce5cdc74"
      },
      "outputs": [
        {
          "data": {
            "text/plain": [
              "np.int64(0)"
            ]
          },
          "execution_count": 30,
          "metadata": {},
          "output_type": "execute_result"
        }
      ],
      "source": [
        "np.min(data_array[:, 6].astype(int))"
      ]
    },
    {
      "cell_type": "code",
      "execution_count": 31,
      "metadata": {
        "colab": {
          "base_uri": "https://localhost:8080/"
        },
        "id": "y1M3lOvT6Hjc",
        "outputId": "8e4ca858-0b6f-4b04-f6c4-03d1a53b0945"
      },
      "outputs": [
        {
          "data": {
            "text/plain": [
              "array([1003, 1012, 1016])"
            ]
          },
          "execution_count": 31,
          "metadata": {},
          "output_type": "execute_result"
        }
      ],
      "source": [
        "product_ids = data_array[:, 2].astype(int); transaction_ids = data_array[:, 0].astype(int); transaction_ids[product_ids == 301]"
      ]
    },
    {
      "cell_type": "code",
      "execution_count": 32,
      "metadata": {
        "colab": {
          "base_uri": "https://localhost:8080/"
        },
        "id": "K3NDi-rX7jlQ",
        "outputId": "4a0613f9-a2fe-4e6c-816a-a2b57993057d"
      },
      "outputs": [
        {
          "data": {
            "text/plain": [
              "array([17.  , 13.05, 89.98, 10.44, 10.99, 20.88])"
            ]
          },
          "execution_count": 32,
          "metadata": {},
          "output_type": "execute_result"
        }
      ],
      "source": [
        "store_locations = data_array[:, 7]; total_sales = data_array[:, 10].astype(float); total_sales[store_locations == 'West']"
      ]
    },
    {
      "cell_type": "code",
      "execution_count": 33,
      "metadata": {
        "colab": {
          "base_uri": "https://localhost:8080/"
        },
        "id": "sfnt7MPI7jyT",
        "outputId": "272526d2-9f54-4712-8642-d6abda10b073"
      },
      "outputs": [
        {
          "data": {
            "text/plain": [
              "np.int64(2)"
            ]
          },
          "execution_count": 33,
          "metadata": {},
          "output_type": "execute_result"
        }
      ],
      "source": [
        "store_locations = data_array[:, 7]; quantities = data_array[:, 3].astype(int); np.sum((store_locations == 'Online') & (quantities == 5))"
      ]
    },
    {
      "cell_type": "code",
      "execution_count": 34,
      "metadata": {
        "colab": {
          "base_uri": "https://localhost:8080/"
        },
        "id": "_EX1xuLh7wWG",
        "outputId": "d0080772-aefb-4d2d-d809-aa0cfc0524a5"
      },
      "outputs": [
        {
          "data": {
            "text/plain": [
              "array([204, 208, 202])"
            ]
          },
          "execution_count": 34,
          "metadata": {},
          "output_type": "execute_result"
        }
      ],
      "source": [
        "payment_types = data_array[:, 8]; total_sales = data_array[:, 10].astype(float); customer_ids = data_array[:, 1].astype(int); customer_ids[(payment_types == 'Credit Card') & (total_sales > 50)]"
      ]
    },
    {
      "cell_type": "code",
      "execution_count": 35,
      "metadata": {
        "colab": {
          "base_uri": "https://localhost:8080/"
        },
        "id": "1mv1Kbpa7wia",
        "outputId": "226eed8a-ea53-4f2c-fc69-6bdd8678f9c9"
      },
      "outputs": [
        {
          "data": {
            "text/plain": [
              "array([[1003, 205, 301, 5, 10.99, 10, 6, 'Online', 'PayPal', nan, 49.46],\n",
              "       [1004, 206, 307, 2, 7.25, 10, 0, 'West', 'Credit Card', 501.0,\n",
              "        13.05],\n",
              "       [1005, 207, 306, 2, 49.99, 10, 6, 'West', 'PayPal', 502.0, 89.98],\n",
              "       [1013, 206, 307, 2, 25.5, 10, 1, 'North', 'Credit Card', 502.0,\n",
              "        45.9],\n",
              "       [1017, 203, 303, 2, 10.99, 10, 5, 'North', 'PayPal', 502.0, 19.78],\n",
              "       [1020, 206, 305, 3, 25.5, 10, 0, 'South', 'Debit Card', 503.0,\n",
              "        68.85]], dtype=object)"
            ]
          },
          "execution_count": 35,
          "metadata": {},
          "output_type": "execute_result"
        }
      ],
      "source": [
        "discounts = data_array[:, 5].astype(int); data_array[discounts == 10, :]"
      ]
    },
    {
      "cell_type": "code",
      "execution_count": 36,
      "metadata": {
        "colab": {
          "base_uri": "https://localhost:8080/"
        },
        "id": "oRaMR2eg7wu9",
        "outputId": "a4f859d2-d351-4df4-b41c-42be86cd262b"
      },
      "outputs": [
        {
          "data": {
            "text/plain": [
              "array([8.5 , 7.25])"
            ]
          },
          "execution_count": 36,
          "metadata": {},
          "output_type": "execute_result"
        }
      ],
      "source": [
        "product_ids = data_array[:, 2].astype(int); store_locations = data_array[:, 7]; unit_prices = data_array[:, 4].astype(float); unit_prices[(product_ids == 307) & (store_locations == 'West')]"
      ]
    },
    {
      "cell_type": "code",
      "execution_count": 37,
      "metadata": {
        "colab": {
          "base_uri": "https://localhost:8080/"
        },
        "id": "cCaQdA2x7xMP",
        "outputId": "ca359baf-baf8-4df8-d09e-c182b7ae4f68"
      },
      "outputs": [
        {
          "data": {
            "text/plain": [
              "np.int64(0)"
            ]
          },
          "execution_count": 37,
          "metadata": {},
          "output_type": "execute_result"
        }
      ],
      "source": [
        "salespersons = data_array[:, 9]; np.sum(salespersons == np.nan)"
      ]
    },
    {
      "cell_type": "code",
      "execution_count": 39,
      "metadata": {
        "colab": {
          "base_uri": "https://localhost:8080/"
        },
        "id": "kksXfrdy6HvY",
        "outputId": "ba4c7d35-d271-46ff-c721-b6f209460548"
      },
      "outputs": [
        {
          "data": {
            "text/plain": [
              "np.int64(4)"
            ]
          },
          "execution_count": 39,
          "metadata": {},
          "output_type": "execute_result"
        }
      ],
      "source": [
        "np.sum(np.array([x is np.nan for x in data_array[:, 9]]))"
      ]
    },
    {
      "cell_type": "code",
      "execution_count": 40,
      "metadata": {
        "colab": {
          "base_uri": "https://localhost:8080/"
        },
        "id": "rXF275sm9Hj9",
        "outputId": "b7dc616c-e0b0-49a4-b261-dc3998c53bd7"
      },
      "outputs": [
        {
          "data": {
            "text/plain": [
              "array([ 17.  ,  12.75,  21.75, 127.5 ,  25.5 ,  25.5 ,  10.99])"
            ]
          },
          "execution_count": 40,
          "metadata": {},
          "output_type": "execute_result"
        }
      ],
      "source": [
        "discounts = data_array[:, 5].astype(int); total_sales = data_array[:, 10].astype(float); total_sales[discounts == 0]\n"
      ]
    },
    {
      "cell_type": "code",
      "execution_count": 41,
      "metadata": {
        "colab": {
          "base_uri": "https://localhost:8080/"
        },
        "id": "ap0eMgQx9Hyt",
        "outputId": "d6fe583b-2ffc-4243-b64e-89b88bf939d5"
      },
      "outputs": [
        {
          "data": {
            "text/plain": [
              "array([1003, 1006, 1008, 1009, 1012, 1014, 1015, 1018])"
            ]
          },
          "execution_count": 41,
          "metadata": {},
          "output_type": "execute_result"
        }
      ],
      "source": [
        " quantities = data_array[:, 3].astype(int); transaction_ids = data_array[:, 0].astype(int); transaction_ids[(quantities == 1) | (quantities == 5)]\n"
      ]
    },
    {
      "cell_type": "code",
      "execution_count": 42,
      "metadata": {
        "colab": {
          "base_uri": "https://localhost:8080/"
        },
        "id": "Hr30IJJI9_9m",
        "outputId": "119684fd-df1f-4cbd-8b71-3bbf6a90522f"
      },
      "outputs": [
        {
          "data": {
            "text/plain": [
              "np.int64(8)"
            ]
          },
          "execution_count": 42,
          "metadata": {},
          "output_type": "execute_result"
        }
      ],
      "source": [
        "store_locations = data_array[:, 7]; np.sum(np.isin(store_locations, ['North', 'South']))"
      ]
    },
    {
      "cell_type": "code",
      "execution_count": 43,
      "metadata": {
        "colab": {
          "base_uri": "https://localhost:8080/"
        },
        "id": "U31opEl7-AKW",
        "outputId": "edf4e01c-7846-4eb1-d19f-ee582e67dd22"
      },
      "outputs": [
        {
          "data": {
            "text/plain": [
              "array([[1001, 207, 307, 2, 8.5, 0, 4, 'West', 'PayPal', 503.0, 17.0],\n",
              "       [1003, 205, 301, 5, 10.99, 10, 6, 'Online', 'PayPal', nan, 49.46],\n",
              "       [1004, 206, 307, 2, 7.25, 10, 0, 'West', 'Credit Card', 501.0,\n",
              "        13.05],\n",
              "       [1005, 207, 306, 2, 49.99, 10, 6, 'West', 'PayPal', 502.0, 89.98],\n",
              "       [1007, 206, 302, 3, 7.25, 0, 1, 'Online', 'PayPal', nan, 21.75],\n",
              "       [1008, 206, 308, 1, 10.99, 5, 8, 'West', 'Credit Card', 503.0,\n",
              "        10.44],\n",
              "       [1009, 204, 304, 5, 25.5, 0, 6, 'South', 'Credit Card', 501.0,\n",
              "        127.5],\n",
              "       [1010, 210, 302, 3, 8.5, 0, 4, 'North', 'Debit Card', 503.0, 25.5],\n",
              "       [1011, 202, 305, 3, 8.5, 0, 1, 'North', 'PayPal', 501.0, 25.5],\n",
              "       [1012, 205, 301, 1, 10.99, 0, 1, 'West', 'Debit Card', 503.0,\n",
              "        10.99],\n",
              "       [1013, 206, 307, 2, 25.5, 10, 1, 'North', 'Credit Card', 502.0,\n",
              "        45.9],\n",
              "       [1015, 208, 303, 5, 49.99, 5, 4, 'Online', 'Credit Card', nan,\n",
              "        237.41],\n",
              "       [1016, 207, 301, 2, 10.99, 5, 5, 'West', 'Credit Card', 503.0,\n",
              "        20.88],\n",
              "       [1017, 203, 303, 2, 10.99, 10, 5, 'North', 'PayPal', 502.0, 19.78],\n",
              "       [1018, 202, 302, 5, 49.99, 5, 8, 'North', 'Credit Card', 503.0,\n",
              "        237.41],\n",
              "       [1019, 208, 304, 2, 7.25, 5, 7, 'South', 'Debit Card', 502.0,\n",
              "        13.78],\n",
              "       [1020, 206, 305, 3, 25.5, 10, 0, 'South', 'Debit Card', 503.0,\n",
              "        68.85]], dtype=object)"
            ]
          },
          "execution_count": 43,
          "metadata": {},
          "output_type": "execute_result"
        }
      ],
      "source": [
        "payment_types = data_array[:, 8]; data_array[payment_types != 'Cash', :]"
      ]
    },
    {
      "cell_type": "code",
      "execution_count": 44,
      "metadata": {
        "colab": {
          "base_uri": "https://localhost:8080/"
        },
        "id": "neQvKQAQ-AYN",
        "outputId": "82b8657a-0a7a-42c4-c8a6-2dbee81df1e2"
      },
      "outputs": [
        {
          "data": {
            "text/plain": [
              "array([307, 307, 308, 308, 301, 304, 303, 304])"
            ]
          },
          "execution_count": 44,
          "metadata": {},
          "output_type": "execute_result"
        }
      ],
      "source": [
        "total_sales = data_array[:, 10].astype(float); product_ids = data_array[:, 2].astype(int); product_ids[(total_sales >= 10) & (total_sales <= 20)]"
      ]
    },
    {
      "cell_type": "code",
      "execution_count": 45,
      "metadata": {
        "colab": {
          "base_uri": "https://localhost:8080/"
        },
        "id": "P70zCozt9H_y",
        "outputId": "160c66b6-a6ec-4404-9f67-2b589a69b396"
      },
      "outputs": [
        {
          "data": {
            "text/plain": [
              "np.int64(4)"
            ]
          },
          "execution_count": 45,
          "metadata": {},
          "output_type": "execute_result"
        }
      ],
      "source": [
        "salespersons = data_array[:, 9]; discounts = data_array[:, 5].astype(int); np.sum((salespersons == 503.0) & (discounts > 0))"
      ]
    },
    {
      "cell_type": "code",
      "execution_count": 46,
      "metadata": {
        "colab": {
          "base_uri": "https://localhost:8080/"
        },
        "id": "bav80DT1FRyW",
        "outputId": "8b18e9e4-d2af-4f8b-b3d0-5eae0523fd3f"
      },
      "outputs": [
        {
          "data": {
            "text/plain": [
              "array([[1004, 206, 307, 2, 7.25, 10, 0, 'West', 'Credit Card', 501.0,\n",
              "        13.05],\n",
              "       [1006, 208, 308, 1, 12.75, 0, 0, 'East', 'Cash', 502.0, 12.75],\n",
              "       [1020, 206, 305, 3, 25.5, 10, 0, 'South', 'Debit Card', 503.0,\n",
              "        68.85]], dtype=object)"
            ]
          },
          "execution_count": 46,
          "metadata": {},
          "output_type": "execute_result"
        }
      ],
      "source": [
        "transaction_days = data_array[:, 6].astype(int); data_array[transaction_days == 0, :]"
      ]
    },
    {
      "cell_type": "code",
      "execution_count": 47,
      "metadata": {
        "colab": {
          "base_uri": "https://localhost:8080/"
        },
        "id": "Df5oEYLZFR_N",
        "outputId": "633cb5a2-59d7-4766-a388-b00622eca8ce"
      },
      "outputs": [
        {
          "data": {
            "text/plain": [
              "array([[1006, 12.75],\n",
              "       [1014, 12.11]], dtype=object)"
            ]
          },
          "execution_count": 47,
          "metadata": {},
          "output_type": "execute_result"
        }
      ],
      "source": [
        "store_locations = data_array[:, 7]; east_indices = (store_locations == 'East'); data_array[east_indices][:, [0, 10]]\n"
      ]
    },
    {
      "cell_type": "code",
      "execution_count": 48,
      "metadata": {
        "colab": {
          "base_uri": "https://localhost:8080/"
        },
        "id": "EB-DUbCQFSMi",
        "outputId": "15ff7c7e-0f24-425b-c593-935aa0b77361"
      },
      "outputs": [
        {
          "data": {
            "text/plain": [
              "np.int64(1)"
            ]
          },
          "execution_count": 48,
          "metadata": {},
          "output_type": "execute_result"
        }
      ],
      "source": [
        "product_ids = data_array[:, 2].astype(int); quantities = data_array[:, 3].astype(int); np.sum((product_ids == 304) & (quantities == 1))"
      ]
    },
    {
      "cell_type": "code",
      "execution_count": 49,
      "metadata": {
        "colab": {
          "base_uri": "https://localhost:8080/"
        },
        "id": "psNzi4kS9IOO",
        "outputId": "294e40f9-b7b5-43a8-902c-dd0f2e10b6e2"
      },
      "outputs": [
        {
          "data": {
            "text/plain": [
              "array([41.75])"
            ]
          },
          "execution_count": 49,
          "metadata": {},
          "output_type": "execute_result"
        }
      ],
      "source": [
        "customer_ids = data_array[:, 1].astype(int); payment_types = data_array[:, 8]; total_sales = data_array[:, 10].astype(float); total_sales[(customer_ids == 206) & (payment_types == 'Cash')]\n"
      ]
    },
    {
      "cell_type": "code",
      "execution_count": 50,
      "metadata": {
        "colab": {
          "base_uri": "https://localhost:8080/"
        },
        "id": "U8a7026bHXMU",
        "outputId": "df35ddae-06dc-42a6-8ba9-e39a240e1637"
      },
      "outputs": [
        {
          "data": {
            "text/plain": [
              "array(['East', 'North', 'Online', 'South', 'West'], dtype=object)"
            ]
          },
          "execution_count": 50,
          "metadata": {},
          "output_type": "execute_result"
        }
      ],
      "source": [
        "np.unique(data_array[:, 7])"
      ]
    },
    {
      "cell_type": "code",
      "execution_count": 51,
      "metadata": {
        "colab": {
          "base_uri": "https://localhost:8080/"
        },
        "id": "j7ip-mt2HXYs",
        "outputId": "69ff4961-fd18-4186-c3cc-33ec32dd15f4"
      },
      "outputs": [
        {
          "data": {
            "text/plain": [
              "array([[1002, 206, 305, 4, 10.99, 5, 6, 'Online', 'Cash', nan, 41.75],\n",
              "       [1003, 205, 301, 5, 10.99, 10, 6, 'Online', 'PayPal', nan, 49.46],\n",
              "       [1008, 206, 308, 1, 10.99, 5, 8, 'West', 'Credit Card', 503.0,\n",
              "        10.44],\n",
              "       [1012, 205, 301, 1, 10.99, 0, 1, 'West', 'Debit Card', 503.0,\n",
              "        10.99],\n",
              "       [1016, 207, 301, 2, 10.99, 5, 5, 'West', 'Credit Card', 503.0,\n",
              "        20.88],\n",
              "       [1017, 203, 303, 2, 10.99, 10, 5, 'North', 'PayPal', 502.0, 19.78]],\n",
              "      dtype=object)"
            ]
          },
          "execution_count": 51,
          "metadata": {},
          "output_type": "execute_result"
        }
      ],
      "source": [
        "unit_prices = data_array[:, 4].astype(float); data_array[np.isclose(unit_prices, 10.99), :]"
      ]
    },
    {
      "cell_type": "code",
      "execution_count": 52,
      "metadata": {
        "colab": {
          "base_uri": "https://localhost:8080/"
        },
        "id": "U3pZlqFSHjWV",
        "outputId": "52dc29f7-9d57-41c2-d5ab-c57d869b4e7c"
      },
      "outputs": [
        {
          "data": {
            "text/plain": [
              "array([[1004, 206, 307, 2, 7.25, 10, 0, 'West', 'Credit Card', 501.0,\n",
              "        13.05],\n",
              "       [1005, 207, 306, 2, 49.99, 10, 6, 'West', 'PayPal', 502.0, 89.98],\n",
              "       [1006, 208, 308, 1, 12.75, 0, 0, 'East', 'Cash', 502.0, 12.75],\n",
              "       [1009, 204, 304, 5, 25.5, 0, 6, 'South', 'Credit Card', 501.0,\n",
              "        127.5],\n",
              "       [1011, 202, 305, 3, 8.5, 0, 1, 'North', 'PayPal', 501.0, 25.5],\n",
              "       [1013, 206, 307, 2, 25.5, 10, 1, 'North', 'Credit Card', 502.0,\n",
              "        45.9],\n",
              "       [1014, 202, 304, 1, 12.75, 5, 5, 'East', 'Cash', 501.0, 12.11],\n",
              "       [1017, 203, 303, 2, 10.99, 10, 5, 'North', 'PayPal', 502.0, 19.78],\n",
              "       [1019, 208, 304, 2, 7.25, 5, 7, 'South', 'Debit Card', 502.0,\n",
              "        13.78]], dtype=object)"
            ]
          },
          "execution_count": 52,
          "metadata": {},
          "output_type": "execute_result"
        }
      ],
      "source": [
        "salespersons = data_array[:, 9]; data_array[np.isin(salespersons, [501.0, 502.0]), :]"
      ]
    },
    {
      "cell_type": "code",
      "execution_count": 53,
      "metadata": {
        "colab": {
          "base_uri": "https://localhost:8080/"
        },
        "id": "PlpVoD25Hjiu",
        "outputId": "7adc12d1-8f3e-4c4b-817a-a34dbe91a458"
      },
      "outputs": [
        {
          "data": {
            "text/plain": [
              "array([ 17.  ,  43.96,  54.95,  14.5 ,  99.98,  12.75,  21.75,  10.99,\n",
              "       127.5 ,  25.5 ,  25.5 ,  10.99,  51.  ,  12.75, 249.95,  21.98,\n",
              "        21.98, 249.95,  14.5 ,  76.5 ])"
            ]
          },
          "execution_count": 53,
          "metadata": {},
          "output_type": "execute_result"
        }
      ],
      "source": [
        "data_array[:, 4].astype(float) * data_array[:, 3].astype(int)"
      ]
    },
    {
      "cell_type": "code",
      "execution_count": 54,
      "metadata": {
        "colab": {
          "base_uri": "https://localhost:8080/"
        },
        "id": "3g630bT0HyBv",
        "outputId": "6e4e6761-1a64-4165-a477-b898d8ccb179"
      },
      "outputs": [
        {
          "data": {
            "text/plain": [
              "array([ 0.    ,  2.198 ,  5.495 ,  1.45  ,  9.998 ,  0.    ,  0.    ,\n",
              "        0.5495,  0.    ,  0.    ,  0.    ,  0.    ,  5.1   ,  0.6375,\n",
              "       12.4975,  1.099 ,  2.198 , 12.4975,  0.725 ,  7.65  ])"
            ]
          },
          "execution_count": 54,
          "metadata": {},
          "output_type": "execute_result"
        }
      ],
      "source": [
        "(data_array[:, 4].astype(float) * data_array[:, 3].astype(int) * data_array[:, 5].astype(int)) / 100.0\n"
      ]
    },
    {
      "cell_type": "code",
      "execution_count": 55,
      "metadata": {
        "colab": {
          "base_uri": "https://localhost:8080/"
        },
        "id": "JxIEIOxQHyO6",
        "outputId": "15a3667f-2ced-4e04-a527-789cec0b5c63"
      },
      "outputs": [
        {
          "data": {
            "text/plain": [
              "array([False, False, False, False,  True, False, False, False,  True,\n",
              "       False, False, False, False, False,  True, False, False,  True,\n",
              "       False, False])"
            ]
          },
          "execution_count": 55,
          "metadata": {},
          "output_type": "execute_result"
        }
      ],
      "source": [
        "data_array[:, 10].astype(float) > 75"
      ]
    },
    {
      "cell_type": "code",
      "execution_count": 56,
      "metadata": {
        "colab": {
          "base_uri": "https://localhost:8080/"
        },
        "id": "SX8ZQMeuHjw1",
        "outputId": "4d8ca0f0-8c7a-46d3-b302-eadad975661e"
      },
      "outputs": [
        {
          "data": {
            "text/plain": [
              "array([ 17.85  ,  43.8375,  51.933 ,  13.7025,  94.479 ,  13.3875,\n",
              "        22.8375,  10.962 , 133.875 ,  26.775 ,  26.775 ,  11.5395,\n",
              "        48.195 ,  12.7155, 249.2805,  21.924 ,  20.769 , 249.2805,\n",
              "        14.469 ,  72.2925])"
            ]
          },
          "execution_count": 56,
          "metadata": {},
          "output_type": "execute_result"
        }
      ],
      "source": [
        "data_array[:, 10].astype(float) * 1.05"
      ]
    },
    {
      "cell_type": "code",
      "execution_count": 57,
      "metadata": {
        "colab": {
          "base_uri": "https://localhost:8080/"
        },
        "id": "oLc8EvRNHXmf",
        "outputId": "8e12f554-74ce-4f25-92af-5e9b02c32825"
      },
      "outputs": [
        {
          "data": {
            "text/plain": [
              "array([0, 0, 0, 0, 0, 0, 0, 0, 1, 0, 0, 0, 0, 0, 1, 0, 0, 1, 0, 0])"
            ]
          },
          "execution_count": 57,
          "metadata": {},
          "output_type": "execute_result"
        }
      ],
      "source": [
        "np.where(data_array[:, 10].astype(float) > 100, 1, 0)"
      ]
    },
    {
      "cell_type": "code",
      "execution_count": 58,
      "metadata": {
        "colab": {
          "base_uri": "https://localhost:8080/"
        },
        "id": "ZXywU1CC1wcb",
        "outputId": "0a664ab8-79eb-492a-853f-1b0c5c451040"
      },
      "outputs": [
        {
          "data": {
            "text/plain": [
              "array([ 8.5   , 10.4375,  9.892 ,  6.525 , 44.99  , 12.75  ,  7.25  ,\n",
              "       10.44  , 25.5   ,  8.5   ,  8.5   , 10.99  , 22.95  , 12.11  ,\n",
              "       47.482 , 10.44  ,  9.89  , 47.482 ,  6.89  , 22.95  ])"
            ]
          },
          "execution_count": 58,
          "metadata": {},
          "output_type": "execute_result"
        }
      ],
      "source": [
        "total_sales = data_array[:, 10].astype(float); quantities = data_array[:, 3].astype(int); np.divide(total_sales, quantities, out=np.zeros_like(total_sales), where=quantities!=0)"
      ]
    },
    {
      "cell_type": "code",
      "execution_count": 59,
      "metadata": {
        "colab": {
          "base_uri": "https://localhost:8080/"
        },
        "id": "0m77WzYML4bW",
        "outputId": "860a324f-74ea-44ba-ad5f-e31688121274"
      },
      "outputs": [
        {
          "data": {
            "text/plain": [
              "array([ 0.  ,  2.21,  5.49,  1.45, 10.  ,  0.  ,  0.  ,  0.55,  0.  ,\n",
              "        0.  ,  0.  ,  0.  ,  5.1 ,  0.64, 12.54,  1.1 ,  2.2 , 12.54,\n",
              "        0.72,  7.65])"
            ]
          },
          "execution_count": 59,
          "metadata": {},
          "output_type": "execute_result"
        }
      ],
      "source": [
        "(data_array[:, 4].astype(float) * data_array[:, 3].astype(int)) - data_array[:, 10].astype(float)\n"
      ]
    },
    {
      "cell_type": "code",
      "execution_count": null,
      "metadata": {
        "id": "KJOJfM6_L5fN"
      },
      "outputs": [],
      "source": []
    }
  ],
  "metadata": {
    "colab": {
      "provenance": []
    },
    "kernelspec": {
      "display_name": "Python 3",
      "name": "python3"
    },
    "language_info": {
      "name": "python"
    }
  },
  "nbformat": 4,
  "nbformat_minor": 0
}
