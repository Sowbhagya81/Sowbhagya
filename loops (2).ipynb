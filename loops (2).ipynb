{
  "nbformat": 4,
  "nbformat_minor": 0,
  "metadata": {
    "colab": {
      "provenance": []
    },
    "kernelspec": {
      "name": "python3",
      "display_name": "Python 3"
    },
    "language_info": {
      "name": "python"
    }
  },
  "cells": [
    {
      "cell_type": "code",
      "execution_count": null,
      "metadata": {
        "id": "rpgDo7VLOZ7a",
        "colab": {
          "base_uri": "https://localhost:8080/"
        },
        "outputId": "4bdf0a17-1d93-49ee-c833-d6d1e1172814"
      },
      "outputs": [
        {
          "output_type": "stream",
          "name": "stdout",
          "text": [
            "0\n",
            "1\n",
            "2\n"
          ]
        }
      ],
      "source": [
        "for i  in range(0,10):\n",
        " if i==3:\n",
        "   break\n",
        " print(i)"
      ]
    },
    {
      "cell_type": "code",
      "source": [
        "for i  in range(0,10):\n",
        " if i==3:\n",
        "   break\n",
        "   print(i)"
      ],
      "metadata": {
        "id": "9B5-cp1ycWJo"
      },
      "execution_count": null,
      "outputs": []
    },
    {
      "cell_type": "code",
      "source": [
        "print(i)"
      ],
      "metadata": {
        "colab": {
          "base_uri": "https://localhost:8080/"
        },
        "id": "jxIy3xHXxN9Q",
        "outputId": "849865fd-b653-45ed-f7b2-94c3966b7a68"
      },
      "execution_count": null,
      "outputs": [
        {
          "output_type": "stream",
          "name": "stdout",
          "text": [
            "3\n"
          ]
        }
      ]
    },
    {
      "cell_type": "code",
      "source": [
        "for i in range(0,10):\n",
        " if i==3:\n",
        "  continue\n",
        " print(i)\n"
      ],
      "metadata": {
        "id": "AbEg48-CcWH-",
        "colab": {
          "base_uri": "https://localhost:8080/"
        },
        "outputId": "b95e34a6-81d6-40ed-c7d8-b04a42c94581"
      },
      "execution_count": null,
      "outputs": [
        {
          "output_type": "stream",
          "name": "stdout",
          "text": [
            "0\n",
            "1\n",
            "2\n",
            "4\n",
            "5\n",
            "6\n",
            "7\n",
            "8\n",
            "9\n"
          ]
        }
      ]
    },
    {
      "cell_type": "code",
      "source": [
        "print(i)"
      ],
      "metadata": {
        "colab": {
          "base_uri": "https://localhost:8080/"
        },
        "id": "MX3jdGD3cWDt",
        "outputId": "c01924f5-73ba-4f37-e43f-a39e80849e44"
      },
      "execution_count": null,
      "outputs": [
        {
          "output_type": "stream",
          "name": "stdout",
          "text": [
            "9\n"
          ]
        }
      ]
    },
    {
      "cell_type": "code",
      "source": [
        "for i in range(0,5):\n",
        " for j in range(2,6):\n",
        "  print(i,j)           #here break statement is only applicable for for loop of j\n",
        "  if j==3:\n",
        "    break\n"
      ],
      "metadata": {
        "colab": {
          "base_uri": "https://localhost:8080/"
        },
        "id": "TQzNb6cUcWCS",
        "outputId": "b5108dc4-ed22-47f9-f03c-a23fb38299d6"
      },
      "execution_count": null,
      "outputs": [
        {
          "output_type": "stream",
          "name": "stdout",
          "text": [
            "0 2\n",
            "0 3\n",
            "1 2\n",
            "1 3\n",
            "2 2\n",
            "2 3\n",
            "3 2\n",
            "3 3\n",
            "4 2\n",
            "4 3\n"
          ]
        }
      ]
    },
    {
      "cell_type": "code",
      "source": [
        "for i in range(0,5):\n",
        " for j in range(1,5):\n",
        "  print(i,j)\n",
        "  if j==3:            #here we have used the print statement before the continue so all elelments will print\n",
        "    continue"
      ],
      "metadata": {
        "colab": {
          "base_uri": "https://localhost:8080/"
        },
        "id": "ZmexNz3GzLQa",
        "outputId": "132afdd4-5151-4c1b-e5d6-2df78ad18049"
      },
      "execution_count": null,
      "outputs": [
        {
          "output_type": "stream",
          "name": "stdout",
          "text": [
            "0 1\n",
            "0 2\n",
            "0 3\n",
            "0 4\n",
            "1 1\n",
            "1 2\n",
            "1 3\n",
            "1 4\n",
            "2 1\n",
            "2 2\n",
            "2 3\n",
            "2 4\n",
            "3 1\n",
            "3 2\n",
            "3 3\n",
            "3 4\n",
            "4 1\n",
            "4 2\n",
            "4 3\n",
            "4 4\n"
          ]
        }
      ]
    },
    {
      "cell_type": "code",
      "source": [
        "for i in range(0,5):\n",
        " for j in range(1,5):\n",
        "  print(i,j)\n",
        "  if j==3:\n",
        "    continue"
      ],
      "metadata": {
        "colab": {
          "base_uri": "https://localhost:8080/"
        },
        "id": "FV-9w_0EcV-O",
        "outputId": "2ad09b6c-5e88-479f-ba42-6cbe9589add5"
      },
      "execution_count": null,
      "outputs": [
        {
          "output_type": "stream",
          "name": "stdout",
          "text": [
            "0 1\n",
            "0 2\n",
            "0 3\n",
            "0 4\n",
            "1 1\n",
            "1 2\n",
            "1 3\n",
            "1 4\n",
            "2 1\n",
            "2 2\n",
            "2 3\n",
            "2 4\n",
            "3 1\n",
            "3 2\n",
            "3 3\n",
            "3 4\n",
            "4 1\n",
            "4 2\n",
            "4 3\n",
            "4 4\n"
          ]
        }
      ]
    },
    {
      "cell_type": "code",
      "source": [
        "for i in range(0,5):\n",
        " for j in range(1,5):\n",
        "  if j==3:\n",
        "    continue\n",
        "  print(i,j)"
      ],
      "metadata": {
        "id": "hvzgFiWqcV8V",
        "colab": {
          "base_uri": "https://localhost:8080/"
        },
        "outputId": "66309184-e924-4192-8da4-67099eb62e35"
      },
      "execution_count": null,
      "outputs": [
        {
          "output_type": "stream",
          "name": "stdout",
          "text": [
            "0 1\n",
            "0 2\n",
            "0 4\n",
            "1 1\n",
            "1 2\n",
            "1 4\n",
            "2 1\n",
            "2 2\n",
            "2 4\n",
            "3 1\n",
            "3 2\n",
            "3 4\n",
            "4 1\n",
            "4 2\n",
            "4 4\n"
          ]
        }
      ]
    },
    {
      "cell_type": "code",
      "source": [
        "for i in range(1,10):\n",
        "  if i==3:\n",
        "    break\n",
        "  else:\n",
        "    print(i)\n"
      ],
      "metadata": {
        "id": "oXI9qp3vcV4G",
        "colab": {
          "base_uri": "https://localhost:8080/"
        },
        "outputId": "0c51e6ec-ac61-42ef-df0d-bf1d8e32df07"
      },
      "execution_count": null,
      "outputs": [
        {
          "output_type": "stream",
          "name": "stdout",
          "text": [
            "1\n",
            "2\n"
          ]
        }
      ]
    },
    {
      "cell_type": "code",
      "source": [
        "for i in range(1,5):\n",
        "  for j in range(1,5):\n",
        "    if j==3:\n",
        "     break\n",
        "    else:\n",
        "     print(i,j)"
      ],
      "metadata": {
        "id": "TJF4oHowcV2c",
        "colab": {
          "base_uri": "https://localhost:8080/"
        },
        "outputId": "bf23d92f-b9b6-4313-8ea8-c0bdbd758420"
      },
      "execution_count": null,
      "outputs": [
        {
          "output_type": "stream",
          "name": "stdout",
          "text": [
            "1 1\n",
            "1 2\n",
            "2 1\n",
            "2 2\n",
            "3 1\n",
            "3 2\n",
            "4 1\n",
            "4 2\n"
          ]
        }
      ]
    },
    {
      "cell_type": "code",
      "source": [
        "for i in range(1,5):\n",
        "  for j in range(1,5):\n",
        "    if j==3:\n",
        "     continue\n",
        "    else:\n",
        "     print(i,j)"
      ],
      "metadata": {
        "id": "JNwM7FjfcVyT",
        "colab": {
          "base_uri": "https://localhost:8080/"
        },
        "outputId": "3af036fb-7b4e-4c24-9d66-26cd32befd18"
      },
      "execution_count": null,
      "outputs": [
        {
          "output_type": "stream",
          "name": "stdout",
          "text": [
            "1 1\n",
            "1 2\n",
            "1 4\n",
            "2 1\n",
            "2 2\n",
            "2 4\n",
            "3 1\n",
            "3 2\n",
            "3 4\n",
            "4 1\n",
            "4 2\n",
            "4 4\n"
          ]
        }
      ]
    },
    {
      "cell_type": "code",
      "source": [
        "for i in range(1,5):\n",
        "  for j in range(1,5):\n",
        "    if i==3:\n",
        "     break\n",
        "    else:\n",
        "     print(i,j)"
      ],
      "metadata": {
        "id": "jK4RWE4rcVwr",
        "colab": {
          "base_uri": "https://localhost:8080/"
        },
        "outputId": "9bfec3f5-6182-4aea-e6c2-e0bc397ef177"
      },
      "execution_count": null,
      "outputs": [
        {
          "output_type": "stream",
          "name": "stdout",
          "text": [
            "1 1\n",
            "1 2\n",
            "1 3\n",
            "1 4\n",
            "2 1\n",
            "2 2\n",
            "2 3\n",
            "2 4\n",
            "4 1\n",
            "4 2\n",
            "4 3\n",
            "4 4\n"
          ]
        }
      ]
    },
    {
      "cell_type": "code",
      "source": [
        "for i in range(1,5):\n",
        "  for j in range(1,5):\n",
        "    if i==3:\n",
        "     continue\n",
        "    else:\n",
        "     print(i,j)"
      ],
      "metadata": {
        "id": "iD40X3uVcVsP",
        "colab": {
          "base_uri": "https://localhost:8080/"
        },
        "outputId": "c5287a62-714a-4262-a139-f1a3d371edb1"
      },
      "execution_count": null,
      "outputs": [
        {
          "output_type": "stream",
          "name": "stdout",
          "text": [
            "1 1\n",
            "1 2\n",
            "1 3\n",
            "1 4\n",
            "2 1\n",
            "2 2\n",
            "2 3\n",
            "2 4\n",
            "4 1\n",
            "4 2\n",
            "4 3\n",
            "4 4\n"
          ]
        }
      ]
    },
    {
      "cell_type": "code",
      "source": [
        "for i in range(1,6):\n",
        "  print(i*'*')"
      ],
      "metadata": {
        "id": "cQoKg6SMcVql",
        "colab": {
          "base_uri": "https://localhost:8080/"
        },
        "outputId": "687520bb-3b32-446c-9dc0-6076b89d7d97"
      },
      "execution_count": 1,
      "outputs": [
        {
          "output_type": "stream",
          "name": "stdout",
          "text": [
            "*\n",
            "**\n",
            "***\n",
            "****\n",
            "*****\n"
          ]
        }
      ]
    },
    {
      "cell_type": "code",
      "source": [
        "for i in range(1,6):\n",
        "  print(\" \"*(6-i)+i*\"*\")"
      ],
      "metadata": {
        "id": "ijdGqBnfcVnB",
        "colab": {
          "base_uri": "https://localhost:8080/"
        },
        "outputId": "a3f762a6-e87c-4a5a-8aa8-5874a3a348ec"
      },
      "execution_count": 8,
      "outputs": [
        {
          "output_type": "stream",
          "name": "stdout",
          "text": [
            "     *\n",
            "    **\n",
            "   ***\n",
            "  ****\n",
            " *****\n"
          ]
        }
      ]
    },
    {
      "cell_type": "code",
      "source": [
        "##binary pattern program"
      ],
      "metadata": {
        "id": "EnGb3bC3cVlL"
      },
      "execution_count": 10,
      "outputs": []
    },
    {
      "cell_type": "code",
      "source": [
        "for i in range(1,6):\n",
        "  for j in range(1,i+1):\n",
        "    print((i+j)%2,end=\" \")\n",
        "  print()\n"
      ],
      "metadata": {
        "id": "1L13aeXvcVhB",
        "colab": {
          "base_uri": "https://localhost:8080/"
        },
        "outputId": "e1eee00f-2f65-485a-85ff-1a684c1c823e"
      },
      "execution_count": 14,
      "outputs": [
        {
          "output_type": "stream",
          "name": "stdout",
          "text": [
            "0 \n",
            "1 0 \n",
            "0 1 0 \n",
            "1 0 1 0 \n",
            "0 1 0 1 0 \n"
          ]
        }
      ]
    },
    {
      "cell_type": "code",
      "source": [
        "## inverted number triangle"
      ],
      "metadata": {
        "id": "xiz-X0cUcVfF"
      },
      "execution_count": null,
      "outputs": []
    },
    {
      "cell_type": "code",
      "source": [
        "for i in range(1,6):\n",
        "  for j in range(1,7-i):\n",
        "    print(j,end=\" \")\n",
        "  print()\n",
        ""
      ],
      "metadata": {
        "id": "3LihdZnBcVaz",
        "colab": {
          "base_uri": "https://localhost:8080/"
        },
        "outputId": "61549548-42bf-42ab-afe7-a4d3e9c4f9bc"
      },
      "execution_count": 15,
      "outputs": [
        {
          "output_type": "stream",
          "name": "stdout",
          "text": [
            "1 2 3 4 5 \n",
            "1 2 3 4 \n",
            "1 2 3 \n",
            "1 2 \n",
            "1 \n"
          ]
        }
      ]
    },
    {
      "cell_type": "code",
      "source": [
        "##checker board pattern"
      ],
      "metadata": {
        "id": "6uymnipTcVZT"
      },
      "execution_count": null,
      "outputs": []
    },
    {
      "cell_type": "code",
      "source": [
        "for i in range(1,6):\n",
        "  for j in range(1,6):\n",
        "    print((i+j)%2,end=\" \")\n",
        "  print()"
      ],
      "metadata": {
        "id": "F_UYBN3GcVWH",
        "colab": {
          "base_uri": "https://localhost:8080/"
        },
        "outputId": "c958a987-bb90-48fb-b79d-6e051ea022ab"
      },
      "execution_count": 16,
      "outputs": [
        {
          "output_type": "stream",
          "name": "stdout",
          "text": [
            "0 1 0 1 0 \n",
            "1 0 1 0 1 \n",
            "0 1 0 1 0 \n",
            "1 0 1 0 1 \n",
            "0 1 0 1 0 \n"
          ]
        }
      ]
    },
    {
      "cell_type": "code",
      "source": [],
      "metadata": {
        "id": "71Mk7Q9McVUE"
      },
      "execution_count": null,
      "outputs": []
    },
    {
      "cell_type": "code",
      "source": [],
      "metadata": {
        "id": "O8_pWqiIFK0S"
      },
      "execution_count": null,
      "outputs": []
    },
    {
      "cell_type": "code",
      "source": [],
      "metadata": {
        "id": "Y2ubXD5wFKpB"
      },
      "execution_count": null,
      "outputs": []
    }
  ]
}